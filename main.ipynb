{
 "cells": [
  {
   "cell_type": "code",
   "execution_count": 14,
   "metadata": {},
   "outputs": [],
   "source": [
    "from imblearn.pipeline import Pipeline\n",
    "from sklearn.naive_bayes import GaussianNB\n",
    "from imblearn.under_sampling import RandomUnderSampler\n",
    "\n",
    "from sklearn.datasets import make_classification\n",
    "from sklearn.metrics import accuracy_score, precision_score, recall_score, f1_score, roc_auc_score\n",
    "from sklearn.model_selection import train_test_split\n",
    "from sklearn.neighbors import NearestNeighbors\n",
    "from scipy.stats import entropy\n",
    "\n",
    "import numpy as np\n",
    "import pandas as pd\n",
    "import warnings\n",
    "\n",
    "warnings.filterwarnings(\"ignore\", category=FutureWarning)\n",
    "warnings.filterwarnings(\"ignore\", category=UserWarning)\n",
    "     "
   ]
  },
  {
   "cell_type": "code",
   "execution_count": 12,
   "metadata": {},
   "outputs": [],
   "source": [
    "class RandomStump:\n",
    "\n",
    "    def __init__(self, feature_index=None, threshold=None, prediction_left=None,\n",
    "                 prediction_right=None, random_state=None):\n",
    "\n",
    "        self.feature_index = feature_index\n",
    "        self.threshold = threshold\n",
    "        self.prediction_left = prediction_left\n",
    "        self.prediction_right = prediction_right\n",
    "        self.random_state = random_state\n",
    "\n",
    "    def fit(self, X, y):\n",
    "\n",
    "        # Set the random seed for reproducibility\n",
    "        if self.random_state is not None:\n",
    "            np.random.seed(self.random_state)\n",
    "\n",
    "        # Select a random feature\n",
    "        n_features = X.shape[1]\n",
    "        self.feature_index = np.random.randint(0, n_features)\n",
    "\n",
    "        # Select a random threshold within the range of the selected feature's values\n",
    "        feature_values = X[:, self.feature_index]\n",
    "        self.threshold = round(np.random.uniform(feature_values.min(), feature_values.max()), 2)\n",
    "\n",
    "        # Generate random predictions for each side of the threshold\n",
    "        unique_classes = np.unique(y)\n",
    "        np.random.shuffle(unique_classes)\n",
    "        self.prediction_left = unique_classes[0]\n",
    "        self.prediction_right = unique_classes[1]\n",
    "\n",
    "    def predict(self, X):\n",
    "\n",
    "        feature_values = X[:, self.feature_index]\n",
    "        predictions = np.where(feature_values < self.threshold, self.prediction_left, self.prediction_right)\n",
    "        return predictions\n",
    "\n",
    "    def __repr__(self):\n",
    "        return (f\"RandomStump(feature_index={self.feature_index}, threshold={self.threshold}, \"\n",
    "                f\"prediction_left={self.prediction_left}, prediction_right={self.prediction_right}, \"\n",
    "                f\"random_state={self.random_state})\")"
   ]
  },
  {
   "cell_type": "code",
   "execution_count": 13,
   "metadata": {},
   "outputs": [
    {
     "name": "stdout",
     "output_type": "stream",
     "text": [
      "RandomStump(feature_index=5, threshold=-0.26, prediction_left=1, prediction_right=0, random_state=None)\n",
      " - Accuracy: 0.47\n",
      " - Precision: 0.67\n",
      " - Recall: 0.40\n",
      " - F1-score: 0.50\n"
     ]
    }
   ],
   "source": [
    "# Generate an example dataset\n",
    "X, y = make_classification(n_samples=100, n_features=10, random_state=42)\n",
    "X_train, X_test, y_train, y_test = train_test_split(X, y, test_size=0.3)\n",
    "\n",
    "# Train the model\n",
    "random_stump = RandomStump()\n",
    "random_stump.fit(X_train, y_train)\n",
    "print(random_stump)\n",
    "\n",
    "# Make predictions\n",
    "y_pred = random_stump.predict(X_test)\n",
    "\n",
    "# Evaluate the model\n",
    "accuracy = accuracy_score(y_test, y_pred)\n",
    "precision = precision_score(y_test, y_pred)\n",
    "recall = recall_score(y_test, y_pred)\n",
    "f1 = f1_score(y_test, y_pred)\n",
    "\n",
    "print(f' - Accuracy: {accuracy:.2f}')\n",
    "print(f' - Precision: {precision:.2f}')\n",
    "print(f' - Recall: {recall:.2f}')\n",
    "print(f' - F1-score: {f1:.2f}')"
   ]
  }
 ],
 "metadata": {
  "kernelspec": {
   "display_name": "test_jupiter-YUYlLyhW-py3.10",
   "language": "python",
   "name": "python3"
  },
  "language_info": {
   "codemirror_mode": {
    "name": "ipython",
    "version": 3
   },
   "file_extension": ".py",
   "mimetype": "text/x-python",
   "name": "python",
   "nbconvert_exporter": "python",
   "pygments_lexer": "ipython3",
   "version": "3.10.12"
  }
 },
 "nbformat": 4,
 "nbformat_minor": 2
}
